{
 "cells": [
  {
   "cell_type": "markdown",
   "id": "fb2b8645",
   "metadata": {},
   "source": [
    "**Data prep**\n",
    "\n",
    "**2022: Week 1 The Prep School - Parental Contact Details**\n",
    "\n",
    "<a href = \"https://preppindata.blogspot.com/2022/01/2022-week-2-prep-school-birthday-cakes.html\" >Data source and requirements </a>"
   ]
  },
  {
   "cell_type": "code",
   "execution_count": 1,
   "id": "e1a59636",
   "metadata": {},
   "outputs": [],
   "source": [
    "import pandas as pd\n",
    "import numpy as np\n",
    "from datetime import datetime\n",
    "import warnings\n",
    "warnings.filterwarnings('ignore')"
   ]
  },
  {
   "cell_type": "markdown",
   "id": "7cb3ac49",
   "metadata": {},
   "source": [
    "**Input the csv file**"
   ]
  },
  {
   "cell_type": "code",
   "execution_count": 2,
   "id": "f5cbc010",
   "metadata": {},
   "outputs": [
    {
     "data": {
      "text/html": [
       "<div>\n",
       "<style scoped>\n",
       "    .dataframe tbody tr th:only-of-type {\n",
       "        vertical-align: middle;\n",
       "    }\n",
       "\n",
       "    .dataframe tbody tr th {\n",
       "        vertical-align: top;\n",
       "    }\n",
       "\n",
       "    .dataframe thead th {\n",
       "        text-align: right;\n",
       "    }\n",
       "</style>\n",
       "<table border=\"1\" class=\"dataframe\">\n",
       "  <thead>\n",
       "    <tr style=\"text-align: right;\">\n",
       "      <th></th>\n",
       "      <th>id</th>\n",
       "      <th>pupil first name</th>\n",
       "      <th>pupil last name</th>\n",
       "      <th>gender</th>\n",
       "      <th>Date of Birth</th>\n",
       "      <th>Parental Contact Name_1</th>\n",
       "      <th>Parental Contact Name_2</th>\n",
       "      <th>Preferred Contact Employer</th>\n",
       "      <th>Parental Contact</th>\n",
       "    </tr>\n",
       "  </thead>\n",
       "  <tbody>\n",
       "    <tr>\n",
       "      <th>0</th>\n",
       "      <td>1</td>\n",
       "      <td>Ronna</td>\n",
       "      <td>Nellies</td>\n",
       "      <td>Female</td>\n",
       "      <td>12/21/2013</td>\n",
       "      <td>Purcell</td>\n",
       "      <td>Ketti</td>\n",
       "      <td>Demizz</td>\n",
       "      <td>1</td>\n",
       "    </tr>\n",
       "    <tr>\n",
       "      <th>1</th>\n",
       "      <td>2</td>\n",
       "      <td>Rusty</td>\n",
       "      <td>Andriulis</td>\n",
       "      <td>Male</td>\n",
       "      <td>7/21/2012</td>\n",
       "      <td>Vassili</td>\n",
       "      <td>Rivi</td>\n",
       "      <td>Brainbox</td>\n",
       "      <td>1</td>\n",
       "    </tr>\n",
       "    <tr>\n",
       "      <th>2</th>\n",
       "      <td>3</td>\n",
       "      <td>Roberta</td>\n",
       "      <td>Oakeshott</td>\n",
       "      <td>Female</td>\n",
       "      <td>12/4/2011</td>\n",
       "      <td>Lind</td>\n",
       "      <td>Haskell</td>\n",
       "      <td>Centidel</td>\n",
       "      <td>2</td>\n",
       "    </tr>\n",
       "    <tr>\n",
       "      <th>3</th>\n",
       "      <td>4</td>\n",
       "      <td>Lola</td>\n",
       "      <td>Rubinfajn</td>\n",
       "      <td>Male</td>\n",
       "      <td>6/29/2012</td>\n",
       "      <td>Elie</td>\n",
       "      <td>Tresa</td>\n",
       "      <td>Edgeblab</td>\n",
       "      <td>2</td>\n",
       "    </tr>\n",
       "    <tr>\n",
       "      <th>4</th>\n",
       "      <td>5</td>\n",
       "      <td>Kamila</td>\n",
       "      <td>Benedtti</td>\n",
       "      <td>Female</td>\n",
       "      <td>7/10/2012</td>\n",
       "      <td>Adela</td>\n",
       "      <td>Clevey</td>\n",
       "      <td>Trudoo</td>\n",
       "      <td>1</td>\n",
       "    </tr>\n",
       "    <tr>\n",
       "      <th>5</th>\n",
       "      <td>6</td>\n",
       "      <td>Avery</td>\n",
       "      <td>Colebourn</td>\n",
       "      <td>Female</td>\n",
       "      <td>8/30/2012</td>\n",
       "      <td>Dalenna</td>\n",
       "      <td>Charley</td>\n",
       "      <td>Linktype</td>\n",
       "      <td>1</td>\n",
       "    </tr>\n",
       "    <tr>\n",
       "      <th>6</th>\n",
       "      <td>7</td>\n",
       "      <td>Valentino</td>\n",
       "      <td>Klimko</td>\n",
       "      <td>Female</td>\n",
       "      <td>12/23/2014</td>\n",
       "      <td>Arlette</td>\n",
       "      <td>Onofredo</td>\n",
       "      <td>Thoughtblab</td>\n",
       "      <td>2</td>\n",
       "    </tr>\n",
       "    <tr>\n",
       "      <th>7</th>\n",
       "      <td>8</td>\n",
       "      <td>Cal</td>\n",
       "      <td>Shearwood</td>\n",
       "      <td>Male</td>\n",
       "      <td>1/18/2015</td>\n",
       "      <td>Leontine</td>\n",
       "      <td>Berne</td>\n",
       "      <td>Browseblab</td>\n",
       "      <td>2</td>\n",
       "    </tr>\n",
       "    <tr>\n",
       "      <th>8</th>\n",
       "      <td>9</td>\n",
       "      <td>King</td>\n",
       "      <td>Truswell</td>\n",
       "      <td>Female</td>\n",
       "      <td>9/14/2012</td>\n",
       "      <td>Evvy</td>\n",
       "      <td>Othelia</td>\n",
       "      <td>Photospace</td>\n",
       "      <td>1</td>\n",
       "    </tr>\n",
       "    <tr>\n",
       "      <th>9</th>\n",
       "      <td>10</td>\n",
       "      <td>Towney</td>\n",
       "      <td>Stichall</td>\n",
       "      <td>Male</td>\n",
       "      <td>6/4/2015</td>\n",
       "      <td>Wendie</td>\n",
       "      <td>Joyann</td>\n",
       "      <td>Kwimbee</td>\n",
       "      <td>2</td>\n",
       "    </tr>\n",
       "  </tbody>\n",
       "</table>\n",
       "</div>"
      ],
      "text/plain": [
       "   id pupil first name pupil last name  gender Date of Birth  \\\n",
       "0   1            Ronna         Nellies  Female    12/21/2013   \n",
       "1   2            Rusty       Andriulis    Male     7/21/2012   \n",
       "2   3          Roberta       Oakeshott  Female     12/4/2011   \n",
       "3   4             Lola       Rubinfajn    Male     6/29/2012   \n",
       "4   5           Kamila        Benedtti  Female     7/10/2012   \n",
       "5   6            Avery       Colebourn  Female     8/30/2012   \n",
       "6   7        Valentino          Klimko  Female    12/23/2014   \n",
       "7   8              Cal       Shearwood    Male     1/18/2015   \n",
       "8   9             King        Truswell  Female     9/14/2012   \n",
       "9  10           Towney        Stichall    Male      6/4/2015   \n",
       "\n",
       "  Parental Contact Name_1 Parental Contact Name_2 Preferred Contact Employer  \\\n",
       "0                 Purcell                   Ketti                     Demizz   \n",
       "1                 Vassili                    Rivi                   Brainbox   \n",
       "2                    Lind                 Haskell                   Centidel   \n",
       "3                    Elie                   Tresa                   Edgeblab   \n",
       "4                   Adela                  Clevey                     Trudoo   \n",
       "5                 Dalenna                 Charley                   Linktype   \n",
       "6                 Arlette                Onofredo                Thoughtblab   \n",
       "7                Leontine                   Berne                 Browseblab   \n",
       "8                    Evvy                 Othelia                 Photospace   \n",
       "9                  Wendie                  Joyann                    Kwimbee   \n",
       "\n",
       "   Parental Contact  \n",
       "0                 1  \n",
       "1                 1  \n",
       "2                 2  \n",
       "3                 2  \n",
       "4                 1  \n",
       "5                 1  \n",
       "6                 2  \n",
       "7                 2  \n",
       "8                 1  \n",
       "9                 2  "
      ]
     },
     "execution_count": 2,
     "metadata": {},
     "output_type": "execute_result"
    }
   ],
   "source": [
    "data= pd.read_csv(\"PD 2022 Wk 1 Input - Input.csv\")\n",
    "data.head(10)"
   ]
  },
  {
   "cell_type": "code",
   "execution_count": 3,
   "id": "9dc12e79",
   "metadata": {},
   "outputs": [],
   "source": [
    "data = data.drop(columns=[\"Parental Contact Name_1\", \"Parental Contact Name_2\", \"Preferred Contact Employer\", \"Parental Contact\"])\n"
   ]
  },
  {
   "cell_type": "markdown",
   "id": "dd807e74",
   "metadata": {},
   "source": [
    "**Format the pupil's name in First Name Last Name format**"
   ]
  },
  {
   "cell_type": "code",
   "execution_count": 4,
   "id": "c92c58ba",
   "metadata": {},
   "outputs": [],
   "source": [
    "data[\"Pupil Name\"] = data['pupil first name'] + \" \" + data['pupil last name']"
   ]
  },
  {
   "cell_type": "markdown",
   "id": "48450073",
   "metadata": {},
   "source": [
    "**Create the date for the pupil's birthday in calendar year 2022**"
   ]
  },
  {
   "cell_type": "code",
   "execution_count": 5,
   "id": "2e2bfae1",
   "metadata": {},
   "outputs": [],
   "source": [
    "data['Date of Birth'] =  pd.to_datetime(data['Date of Birth'])\n",
    "today = datetime.today()\n",
    "data['d'] = data['Date of Birth'].dt.strftime('%d')\n",
    "data['m'] = data['Date of Birth'].dt.strftime('%m')\n",
    "data['y'] = str(today.year)\n",
    "data[\"This Year's Birthday\"] = data['d'] + \"/\" + data['m']  + \"/\" + data['y']\n",
    "data[\"This Year's Bday\"] =  pd.to_datetime(data[\"This Year's Birthday\"],  format='%d/%m/%Y')"
   ]
  },
  {
   "cell_type": "markdown",
   "id": "19709f7b",
   "metadata": {},
   "source": [
    "**Work out what day of the week the pupil's birthday falls on** <br>\n",
    "**Remember if the birthday falls on a Saturday or Sunday, we need to change the weekday to Friday**"
   ]
  },
  {
   "cell_type": "code",
   "execution_count": 6,
   "id": "2692aeef",
   "metadata": {},
   "outputs": [],
   "source": [
    "data['Cake Needed On']= data[\"This Year's Bday\"].dt.strftime('%A')\n",
    "data.loc[(data['Cake Needed On'] == \"Sunday\" ) | (data['Cake Needed On'] == \"Saturday\"), \"Cake Needed On\"] = \"Friday\"\n"
   ]
  },
  {
   "cell_type": "markdown",
   "id": "248da471",
   "metadata": {},
   "source": [
    "**Work out what month the pupil's birthday falls within**"
   ]
  },
  {
   "cell_type": "code",
   "execution_count": 7,
   "id": "15eeb336",
   "metadata": {},
   "outputs": [],
   "source": [
    "data['Month']= data[\"This Year's Bday\"].dt.strftime('%B')"
   ]
  },
  {
   "cell_type": "markdown",
   "id": "7b08a616",
   "metadata": {},
   "source": [
    "**Count how many birthdays there are on each weekday in each month**"
   ]
  },
  {
   "cell_type": "code",
   "execution_count": 8,
   "id": "7399e2a1",
   "metadata": {},
   "outputs": [],
   "source": [
    "data['Rows'] = 1\n",
    "data['BDs per Weekday and Month'] = data.groupby(['Month','Cake Needed On'])['Rows'].transform(np.sum)"
   ]
  },
  {
   "cell_type": "markdown",
   "id": "3b34f67b",
   "metadata": {},
   "source": [
    "**Remove any unnecessary columns of data**\n",
    "\n",
    "**Output the data**"
   ]
  },
  {
   "cell_type": "code",
   "execution_count": 9,
   "id": "c6ff0214",
   "metadata": {},
   "outputs": [],
   "source": [
    "output_columns = [\"Pupil Name\",'Date of Birth',\"This Year's Bday\",'Cake Needed On','Month','BDs per Weekday and Month']\n",
    "df = data[output_columns]\n",
    "\n",
    "# Output the data \n",
    "df.to_csv('PD 2022 Week 2 Output.csv', index=False)\n",
    "\n"
   ]
  },
  {
   "cell_type": "code",
   "execution_count": 10,
   "id": "e6cf2d4c",
   "metadata": {},
   "outputs": [
    {
     "name": "stdout",
     "output_type": "stream",
     "text": [
      "Data Prepped!\n"
     ]
    }
   ],
   "source": [
    "print(\"Data Prepped!\")"
   ]
  },
  {
   "cell_type": "code",
   "execution_count": null,
   "id": "a25e64ca",
   "metadata": {},
   "outputs": [],
   "source": []
  }
 ],
 "metadata": {
  "kernelspec": {
   "display_name": "Python 3",
   "language": "python",
   "name": "python3"
  },
  "language_info": {
   "codemirror_mode": {
    "name": "ipython",
    "version": 3
   },
   "file_extension": ".py",
   "mimetype": "text/x-python",
   "name": "python",
   "nbconvert_exporter": "python",
   "pygments_lexer": "ipython3",
   "version": "3.8.5"
  },
  "toc": {
   "base_numbering": 1,
   "nav_menu": {},
   "number_sections": true,
   "sideBar": true,
   "skip_h1_title": false,
   "title_cell": "Table of Contents",
   "title_sidebar": "Contents",
   "toc_cell": false,
   "toc_position": {},
   "toc_section_display": true,
   "toc_window_display": false
  },
  "varInspector": {
   "cols": {
    "lenName": 16,
    "lenType": 16,
    "lenVar": 40
   },
   "kernels_config": {
    "python": {
     "delete_cmd_postfix": "",
     "delete_cmd_prefix": "del ",
     "library": "var_list.py",
     "varRefreshCmd": "print(var_dic_list())"
    },
    "r": {
     "delete_cmd_postfix": ") ",
     "delete_cmd_prefix": "rm(",
     "library": "var_list.r",
     "varRefreshCmd": "cat(var_dic_list()) "
    }
   },
   "types_to_exclude": [
    "module",
    "function",
    "builtin_function_or_method",
    "instance",
    "_Feature"
   ],
   "window_display": false
  }
 },
 "nbformat": 4,
 "nbformat_minor": 5
}
