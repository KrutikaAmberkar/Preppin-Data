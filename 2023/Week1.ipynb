{
 "cells": [
  {
   "cell_type": "markdown",
   "id": "c59f4e71",
   "metadata": {},
   "source": [
    "**2023: Week 1 The Data Source Bank**\n",
    "\n",
    "<a href = \"https://preppindata.blogspot.com/2023/01/2023-week-1-data-source-bank.html\" >Data source and requirements </a>"
   ]
  },
  {
   "cell_type": "code",
   "execution_count": 1,
   "id": "4d669f38",
   "metadata": {},
   "outputs": [],
   "source": [
    "import pandas as pd\n",
    "import numpy as np"
   ]
  },
  {
   "cell_type": "code",
   "execution_count": 2,
   "id": "24e014a3",
   "metadata": {},
   "outputs": [],
   "source": [
    "#Input the data\n",
    "data = pd.read_csv(\"PD 2023 Wk 1 Input.csv\")"
   ]
  },
  {
   "cell_type": "code",
   "execution_count": 3,
   "id": "be87b043",
   "metadata": {},
   "outputs": [],
   "source": [
    "#Split the Transaction Code to extract the letters at the start of the transaction code. \n",
    "#These identify the bank who processes the transaction \n",
    "#Rename the new field with the Bank code 'Bank'.\n",
    "\n",
    "data['Bank'] = data['Transaction Code'].str.split(\"-\", expand=True)[0]"
   ]
  },
  {
   "cell_type": "code",
   "execution_count": 4,
   "id": "06dbdced",
   "metadata": {},
   "outputs": [],
   "source": [
    "#Rename the values in the Online or In-person field, Online of the 1 values and In-Person for the 2 values.\n",
    "\n",
    "data['Online or In-Person'] = np.where(data['Online or In-Person'] == 1, \"Online\", \"In-Person\")"
   ]
  },
  {
   "cell_type": "code",
   "execution_count": 5,
   "id": "beaf21c6",
   "metadata": {},
   "outputs": [],
   "source": [
    "#Change the date to be the day of the week\n",
    "\n",
    "data['Transaction Date'] = pd.to_datetime(data['Transaction Date'])\n",
    "\n",
    "data['Transaction Date'] = data['Transaction Date'].dt.day_name()"
   ]
  },
  {
   "cell_type": "code",
   "execution_count": 6,
   "id": "f5cb3667",
   "metadata": {},
   "outputs": [
    {
     "name": "stdout",
     "output_type": "stream",
     "text": [
      "  Bank   Value\n",
      "0   DS  653940\n",
      "1  DSB  530489\n",
      "2  DTB  618238\n"
     ]
    }
   ],
   "source": [
    "#Different levels of detail are required in the outputs. \n",
    "#You will need to sum up the values of the transactions in three ways\n",
    "#1. Total Values of Transactions by each bank\n",
    "\n",
    "# Using as_index=False\n",
    "df = data.groupby('Bank', as_index =False)['Value'].sum()\n",
    "\n",
    "# Using reset_index()\n",
    "df = data.groupby(['Bank'])['Value'].sum().reset_index()\n",
    "print(df)\n",
    "\n"
   ]
  },
  {
   "cell_type": "code",
   "execution_count": 7,
   "id": "ad9313af",
   "metadata": {},
   "outputs": [
    {
     "name": "stdout",
     "output_type": "stream",
     "text": [
      "   Bank Transaction Date Online or In-Person  Value\n",
      "0    DS           Friday           In-Person  50925\n",
      "1    DS           Friday              Online  61713\n",
      "2    DS           Monday           In-Person  50810\n",
      "3    DS           Monday              Online  34668\n",
      "4    DS         Saturday           In-Person  41141\n",
      "5    DS         Saturday              Online  64362\n",
      "6    DS           Sunday           In-Person  70291\n",
      "7    DS           Sunday              Online  40022\n",
      "8    DS         Thursday           In-Person  39805\n",
      "9    DS         Thursday              Online  11448\n",
      "10   DS          Tuesday           In-Person  42519\n",
      "11   DS          Tuesday              Online  41709\n",
      "12   DS        Wednesday           In-Person  63957\n",
      "13   DS        Wednesday              Online  40570\n",
      "14  DSB           Friday           In-Person  31640\n",
      "15  DSB           Friday              Online  30308\n",
      "16  DSB           Monday           In-Person  39507\n",
      "17  DSB           Monday              Online  37895\n",
      "18  DSB         Saturday           In-Person  72116\n",
      "19  DSB         Saturday              Online  39699\n",
      "20  DSB           Sunday           In-Person  38907\n",
      "21  DSB           Sunday              Online  13701\n",
      "22  DSB         Thursday           In-Person  36124\n",
      "23  DSB         Thursday              Online  31552\n",
      "24  DSB          Tuesday           In-Person  13564\n",
      "25  DSB          Tuesday              Online  44387\n",
      "26  DSB        Wednesday           In-Person  33764\n",
      "27  DSB        Wednesday              Online  67325\n",
      "28  DTB           Friday           In-Person  72080\n",
      "29  DTB           Friday              Online  19467\n",
      "30  DTB           Monday           In-Person  25951\n",
      "31  DTB           Monday              Online  44210\n",
      "32  DTB         Saturday           In-Person  72778\n",
      "33  DTB         Saturday              Online  27722\n",
      "34  DTB           Sunday           In-Person  26900\n",
      "35  DTB           Sunday              Online  49997\n",
      "36  DTB         Thursday           In-Person  46095\n",
      "37  DTB         Thursday              Online  77318\n",
      "38  DTB          Tuesday           In-Person  30040\n",
      "39  DTB          Tuesday              Online  41652\n",
      "40  DTB        Wednesday           In-Person  49833\n",
      "41  DTB        Wednesday              Online  34195\n"
     ]
    }
   ],
   "source": [
    "#2.Total Values by Bank, Day of the Week and Type of Transaction (Online or In-Person)\n",
    "df1 = data.groupby(['Bank','Transaction Date','Online or In-Person'], as_index =False)['Value'].sum()\n",
    "df1 = data.groupby(['Bank','Transaction Date','Online or In-Person'])['Value'].sum().reset_index()\n",
    "print(df1)"
   ]
  },
  {
   "cell_type": "code",
   "execution_count": 8,
   "id": "1245504f",
   "metadata": {
    "scrolled": true
   },
   "outputs": [
    {
     "name": "stdout",
     "output_type": "stream",
     "text": [
      "   Bank  Customer Code  Value\n",
      "0    DS         100000  57909\n",
      "1    DS         100001  53063\n",
      "2    DS         100002  69803\n",
      "3    DS         100003  25482\n",
      "4    DS         100004  63315\n",
      "5    DS         100005  39668\n",
      "6    DS         100006  77636\n",
      "7    DS         100007  76190\n",
      "8    DS         100008  56400\n",
      "9    DS         100009  56581\n",
      "10   DS         100010  77893\n",
      "11  DSB         100000  27585\n",
      "12  DSB         100001  67856\n",
      "13  DSB         100002  27936\n",
      "14  DSB         100003  58154\n",
      "15  DSB         100004  39003\n",
      "16  DSB         100005  56396\n",
      "17  DSB         100006  32333\n",
      "18  DSB         100007  29702\n",
      "19  DSB         100008  47121\n",
      "20  DSB         100009  51749\n",
      "21  DSB         100010  92654\n",
      "22  DTB         100000  77252\n",
      "23  DTB         100001  60675\n",
      "24  DTB         100002  48616\n",
      "25  DTB         100003  84574\n",
      "26  DTB         100004  44435\n",
      "27  DTB         100005  37795\n",
      "28  DTB         100006  41909\n",
      "29  DTB         100007  29308\n",
      "30  DTB         100008  69352\n",
      "31  DTB         100009  52926\n",
      "32  DTB         100010  71396\n"
     ]
    }
   ],
   "source": [
    "#3. Total Values by Bank and Customer Code\n",
    "df2 = data.groupby(['Bank','Customer Code'], as_index =False)['Value'].sum()\n",
    "\n",
    "# Using reset_index()\n",
    "df2 = data.groupby(['Bank','Customer Code'])['Value'].sum().reset_index()\n",
    "print(df2)"
   ]
  },
  {
   "cell_type": "code",
   "execution_count": 9,
   "id": "44a99256",
   "metadata": {},
   "outputs": [],
   "source": [
    "df.to_excel(\"Total Values of Transactions by each bank.xlsx\",index=False)\n",
    "df1.to_excel(\"Total Values by Bank, Day of the Week and Type of Transaction (Online or In-Person).xlsx\",index=False)\n",
    "df2.to_excel(\"Total Values by Bank and Customer Code.xlsx\",index=False)"
   ]
  },
  {
   "cell_type": "code",
   "execution_count": null,
   "id": "6d2b6c97",
   "metadata": {},
   "outputs": [],
   "source": []
  }
 ],
 "metadata": {
  "kernelspec": {
   "display_name": "Python 3",
   "language": "python",
   "name": "python3"
  },
  "language_info": {
   "codemirror_mode": {
    "name": "ipython",
    "version": 3
   },
   "file_extension": ".py",
   "mimetype": "text/x-python",
   "name": "python",
   "nbconvert_exporter": "python",
   "pygments_lexer": "ipython3",
   "version": "3.8.5"
  },
  "toc": {
   "base_numbering": 1,
   "nav_menu": {},
   "number_sections": true,
   "sideBar": true,
   "skip_h1_title": false,
   "title_cell": "Table of Contents",
   "title_sidebar": "Contents",
   "toc_cell": false,
   "toc_position": {},
   "toc_section_display": true,
   "toc_window_display": false
  },
  "varInspector": {
   "cols": {
    "lenName": 16,
    "lenType": 16,
    "lenVar": 40
   },
   "kernels_config": {
    "python": {
     "delete_cmd_postfix": "",
     "delete_cmd_prefix": "del ",
     "library": "var_list.py",
     "varRefreshCmd": "print(var_dic_list())"
    },
    "r": {
     "delete_cmd_postfix": ") ",
     "delete_cmd_prefix": "rm(",
     "library": "var_list.r",
     "varRefreshCmd": "cat(var_dic_list()) "
    }
   },
   "types_to_exclude": [
    "module",
    "function",
    "builtin_function_or_method",
    "instance",
    "_Feature"
   ],
   "window_display": false
  }
 },
 "nbformat": 4,
 "nbformat_minor": 5
}
